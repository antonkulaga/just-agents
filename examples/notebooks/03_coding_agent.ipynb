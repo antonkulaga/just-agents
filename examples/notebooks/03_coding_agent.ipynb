{
  "cells": [
    {
      "cell_type": "markdown",
      "metadata": {
        "colab_type": "text",
        "id": "view-in-github"
      },
      "source": [
        "<a href=\"https://colab.research.google.com/github/longevity-genie/just-agents/blob/main/examples/notebooks/03_coding_agent.ipynb\" target=\"_parent\"><img src=\"https://colab.research.google.com/assets/colab-badge.svg\" alt=\"Open In Colab\"/></a>"
      ]
    },
    {
      "cell_type": "markdown",
      "metadata": {
        "id": "xMh-QD4m8F7V"
      },
      "source": [
        "# Coding Just-Agents tutorial\n",
        "\n",
        "In this tutorial we will develop an LLM agent that can code with just-agents library."
      ]
    },
    {
      "cell_type": "markdown",
      "metadata": {
        "id": "I-pvhtr9ZW1C"
      },
      "source": [
        "It is the third tutorial in a series of tutorials, other ones are:\n",
        "1. Basic agents tutorial https://colab.research.google.com/drive/1l_pdfT0FhlzFzNV792xdiMD3xt0I660z\n",
        "2. Database agent tutorial https://colab.research.google.com/drive/1FQGOfIytET5HlExxu4jdXHeOMJJDL0yg\n",
        "3. Coding agent tutorial  (THIS ONE) https://colab.research.google.com/drive/1CbqwSwUHir6VpWA0uKVIiqlZo6m2s6qm#scrollTo=xMh-QD4m8F7V"
      ]
    },
    {
      "cell_type": "markdown",
      "metadata": {
        "id": "1-vnEKue7nD-"
      },
      "source": [
        "Here we will write an agent that can write code and install dependencies. The default just-agents code agent uses safe non-root docker sandboxes to isolate environment from the host. However, such approach will not work with google collab, so we will write a coding agent from scratch"
      ]
    },
    {
      "cell_type": "markdown",
      "metadata": {
        "id": "BT5jfOGxZb7j"
      },
      "source": [
        "Install just-agents library and provide API keys for Groq and OpenAi"
      ]
    },
    {
      "cell_type": "code",
      "execution_count": null,
      "metadata": {
        "colab": {
          "base_uri": "https://localhost:8080/"
        },
        "collapsed": true,
        "id": "dGi8WOSQZe2s",
        "outputId": "65244cb8-f479-4f77-b37b-07690d1ae5a6"
      },
      "outputs": [
        {
          "name": "stdout",
          "output_type": "stream",
          "text": [
            "Collecting just-agents\n",
            "  Downloading just_agents-0.2.5-py2.py3-none-any.whl.metadata (7.1 kB)\n",
            "Collecting litellm>=1.51.0 (from just-agents)\n",
            "  Downloading litellm-1.52.10-py3-none-any.whl.metadata (33 kB)\n",
            "Collecting numpydoc (from just-agents)\n",
            "  Downloading numpydoc-1.8.0-py3-none-any.whl.metadata (4.3 kB)\n",
            "Requirement already satisfied: requests in /usr/local/lib/python3.10/dist-packages (from just-agents) (2.32.3)\n",
            "Requirement already satisfied: typer>=0.12.5 in /usr/local/lib/python3.10/dist-packages (from just-agents) (0.13.0)\n",
            "Requirement already satisfied: aiohttp in /usr/local/lib/python3.10/dist-packages (from litellm>=1.51.0->just-agents) (3.11.1)\n",
            "Requirement already satisfied: click in /usr/local/lib/python3.10/dist-packages (from litellm>=1.51.0->just-agents) (8.1.7)\n",
            "Requirement already satisfied: importlib-metadata>=6.8.0 in /usr/local/lib/python3.10/dist-packages (from litellm>=1.51.0->just-agents) (8.5.0)\n",
            "Requirement already satisfied: jinja2<4.0.0,>=3.1.2 in /usr/local/lib/python3.10/dist-packages (from litellm>=1.51.0->just-agents) (3.1.4)\n",
            "Requirement already satisfied: jsonschema<5.0.0,>=4.22.0 in /usr/local/lib/python3.10/dist-packages (from litellm>=1.51.0->just-agents) (4.23.0)\n",
            "Requirement already satisfied: openai>=1.54.0 in /usr/local/lib/python3.10/dist-packages (from litellm>=1.51.0->just-agents) (1.54.4)\n",
            "Requirement already satisfied: pydantic<3.0.0,>=2.0.0 in /usr/local/lib/python3.10/dist-packages (from litellm>=1.51.0->just-agents) (2.9.2)\n",
            "Collecting python-dotenv>=0.2.0 (from litellm>=1.51.0->just-agents)\n",
            "  Downloading python_dotenv-1.0.1-py3-none-any.whl.metadata (23 kB)\n",
            "Collecting tiktoken>=0.7.0 (from litellm>=1.51.0->just-agents)\n",
            "  Downloading tiktoken-0.8.0-cp310-cp310-manylinux_2_17_x86_64.manylinux2014_x86_64.whl.metadata (6.6 kB)\n",
            "Requirement already satisfied: tokenizers in /usr/local/lib/python3.10/dist-packages (from litellm>=1.51.0->just-agents) (0.20.3)\n",
            "Requirement already satisfied: charset-normalizer<4,>=2 in /usr/local/lib/python3.10/dist-packages (from requests->just-agents) (3.4.0)\n",
            "Requirement already satisfied: idna<4,>=2.5 in /usr/local/lib/python3.10/dist-packages (from requests->just-agents) (3.10)\n",
            "Requirement already satisfied: urllib3<3,>=1.21.1 in /usr/local/lib/python3.10/dist-packages (from requests->just-agents) (2.2.3)\n",
            "Requirement already satisfied: certifi>=2017.4.17 in /usr/local/lib/python3.10/dist-packages (from requests->just-agents) (2024.8.30)\n",
            "Requirement already satisfied: typing-extensions>=3.7.4.3 in /usr/local/lib/python3.10/dist-packages (from typer>=0.12.5->just-agents) (4.12.2)\n",
            "Requirement already satisfied: shellingham>=1.3.0 in /usr/local/lib/python3.10/dist-packages (from typer>=0.12.5->just-agents) (1.5.4)\n",
            "Requirement already satisfied: rich>=10.11.0 in /usr/local/lib/python3.10/dist-packages (from typer>=0.12.5->just-agents) (13.9.4)\n",
            "Requirement already satisfied: sphinx>=6 in /usr/local/lib/python3.10/dist-packages (from numpydoc->just-agents) (8.1.3)\n",
            "Requirement already satisfied: tabulate>=0.8.10 in /usr/local/lib/python3.10/dist-packages (from numpydoc->just-agents) (0.9.0)\n",
            "Requirement already satisfied: tomli>=1.1.0 in /usr/local/lib/python3.10/dist-packages (from numpydoc->just-agents) (2.1.0)\n",
            "Requirement already satisfied: zipp>=3.20 in /usr/local/lib/python3.10/dist-packages (from importlib-metadata>=6.8.0->litellm>=1.51.0->just-agents) (3.21.0)\n",
            "Requirement already satisfied: MarkupSafe>=2.0 in /usr/local/lib/python3.10/dist-packages (from jinja2<4.0.0,>=3.1.2->litellm>=1.51.0->just-agents) (3.0.2)\n",
            "Requirement already satisfied: attrs>=22.2.0 in /usr/local/lib/python3.10/dist-packages (from jsonschema<5.0.0,>=4.22.0->litellm>=1.51.0->just-agents) (24.2.0)\n",
            "Requirement already satisfied: jsonschema-specifications>=2023.03.6 in /usr/local/lib/python3.10/dist-packages (from jsonschema<5.0.0,>=4.22.0->litellm>=1.51.0->just-agents) (2024.10.1)\n",
            "Requirement already satisfied: referencing>=0.28.4 in /usr/local/lib/python3.10/dist-packages (from jsonschema<5.0.0,>=4.22.0->litellm>=1.51.0->just-agents) (0.35.1)\n",
            "Requirement already satisfied: rpds-py>=0.7.1 in /usr/local/lib/python3.10/dist-packages (from jsonschema<5.0.0,>=4.22.0->litellm>=1.51.0->just-agents) (0.21.0)\n",
            "Requirement already satisfied: anyio<5,>=3.5.0 in /usr/local/lib/python3.10/dist-packages (from openai>=1.54.0->litellm>=1.51.0->just-agents) (3.7.1)\n",
            "Requirement already satisfied: distro<2,>=1.7.0 in /usr/local/lib/python3.10/dist-packages (from openai>=1.54.0->litellm>=1.51.0->just-agents) (1.9.0)\n",
            "Requirement already satisfied: httpx<1,>=0.23.0 in /usr/local/lib/python3.10/dist-packages (from openai>=1.54.0->litellm>=1.51.0->just-agents) (0.27.2)\n",
            "Requirement already satisfied: jiter<1,>=0.4.3 in /usr/local/lib/python3.10/dist-packages (from openai>=1.54.0->litellm>=1.51.0->just-agents) (0.7.1)\n",
            "Requirement already satisfied: sniffio in /usr/local/lib/python3.10/dist-packages (from openai>=1.54.0->litellm>=1.51.0->just-agents) (1.3.1)\n",
            "Requirement already satisfied: tqdm>4 in /usr/local/lib/python3.10/dist-packages (from openai>=1.54.0->litellm>=1.51.0->just-agents) (4.66.6)\n",
            "Requirement already satisfied: annotated-types>=0.6.0 in /usr/local/lib/python3.10/dist-packages (from pydantic<3.0.0,>=2.0.0->litellm>=1.51.0->just-agents) (0.7.0)\n",
            "Requirement already satisfied: pydantic-core==2.23.4 in /usr/local/lib/python3.10/dist-packages (from pydantic<3.0.0,>=2.0.0->litellm>=1.51.0->just-agents) (2.23.4)\n",
            "Requirement already satisfied: markdown-it-py>=2.2.0 in /usr/local/lib/python3.10/dist-packages (from rich>=10.11.0->typer>=0.12.5->just-agents) (3.0.0)\n",
            "Requirement already satisfied: pygments<3.0.0,>=2.13.0 in /usr/local/lib/python3.10/dist-packages (from rich>=10.11.0->typer>=0.12.5->just-agents) (2.18.0)\n",
            "Requirement already satisfied: sphinxcontrib-applehelp>=1.0.7 in /usr/local/lib/python3.10/dist-packages (from sphinx>=6->numpydoc->just-agents) (2.0.0)\n",
            "Requirement already satisfied: sphinxcontrib-devhelp>=1.0.6 in /usr/local/lib/python3.10/dist-packages (from sphinx>=6->numpydoc->just-agents) (2.0.0)\n",
            "Requirement already satisfied: sphinxcontrib-htmlhelp>=2.0.6 in /usr/local/lib/python3.10/dist-packages (from sphinx>=6->numpydoc->just-agents) (2.1.0)\n",
            "Requirement already satisfied: sphinxcontrib-jsmath>=1.0.1 in /usr/local/lib/python3.10/dist-packages (from sphinx>=6->numpydoc->just-agents) (1.0.1)\n",
            "Requirement already satisfied: sphinxcontrib-qthelp>=1.0.6 in /usr/local/lib/python3.10/dist-packages (from sphinx>=6->numpydoc->just-agents) (2.0.0)\n",
            "Requirement already satisfied: sphinxcontrib-serializinghtml>=1.1.9 in /usr/local/lib/python3.10/dist-packages (from sphinx>=6->numpydoc->just-agents) (2.0.0)\n",
            "Requirement already satisfied: docutils<0.22,>=0.20 in /usr/local/lib/python3.10/dist-packages (from sphinx>=6->numpydoc->just-agents) (0.21.2)\n",
            "Requirement already satisfied: snowballstemmer>=2.2 in /usr/local/lib/python3.10/dist-packages (from sphinx>=6->numpydoc->just-agents) (2.2.0)\n",
            "Requirement already satisfied: babel>=2.13 in /usr/local/lib/python3.10/dist-packages (from sphinx>=6->numpydoc->just-agents) (2.16.0)\n",
            "Requirement already satisfied: alabaster>=0.7.14 in /usr/local/lib/python3.10/dist-packages (from sphinx>=6->numpydoc->just-agents) (1.0.0)\n",
            "Requirement already satisfied: imagesize>=1.3 in /usr/local/lib/python3.10/dist-packages (from sphinx>=6->numpydoc->just-agents) (1.4.1)\n",
            "Requirement already satisfied: packaging>=23.0 in /usr/local/lib/python3.10/dist-packages (from sphinx>=6->numpydoc->just-agents) (24.2)\n",
            "Requirement already satisfied: regex>=2022.1.18 in /usr/local/lib/python3.10/dist-packages (from tiktoken>=0.7.0->litellm>=1.51.0->just-agents) (2024.9.11)\n",
            "Requirement already satisfied: aiohappyeyeballs>=2.3.0 in /usr/local/lib/python3.10/dist-packages (from aiohttp->litellm>=1.51.0->just-agents) (2.4.3)\n",
            "Requirement already satisfied: aiosignal>=1.1.2 in /usr/local/lib/python3.10/dist-packages (from aiohttp->litellm>=1.51.0->just-agents) (1.3.1)\n",
            "Requirement already satisfied: frozenlist>=1.1.1 in /usr/local/lib/python3.10/dist-packages (from aiohttp->litellm>=1.51.0->just-agents) (1.5.0)\n",
            "Requirement already satisfied: multidict<7.0,>=4.5 in /usr/local/lib/python3.10/dist-packages (from aiohttp->litellm>=1.51.0->just-agents) (6.1.0)\n",
            "Requirement already satisfied: propcache>=0.2.0 in /usr/local/lib/python3.10/dist-packages (from aiohttp->litellm>=1.51.0->just-agents) (0.2.0)\n",
            "Requirement already satisfied: yarl<2.0,>=1.17.0 in /usr/local/lib/python3.10/dist-packages (from aiohttp->litellm>=1.51.0->just-agents) (1.17.1)\n",
            "Requirement already satisfied: async-timeout<6.0,>=4.0 in /usr/local/lib/python3.10/dist-packages (from aiohttp->litellm>=1.51.0->just-agents) (4.0.3)\n",
            "Requirement already satisfied: huggingface-hub<1.0,>=0.16.4 in /usr/local/lib/python3.10/dist-packages (from tokenizers->litellm>=1.51.0->just-agents) (0.26.2)\n",
            "Requirement already satisfied: exceptiongroup in /usr/local/lib/python3.10/dist-packages (from anyio<5,>=3.5.0->openai>=1.54.0->litellm>=1.51.0->just-agents) (1.2.2)\n",
            "Requirement already satisfied: httpcore==1.* in /usr/local/lib/python3.10/dist-packages (from httpx<1,>=0.23.0->openai>=1.54.0->litellm>=1.51.0->just-agents) (1.0.6)\n",
            "Requirement already satisfied: h11<0.15,>=0.13 in /usr/local/lib/python3.10/dist-packages (from httpcore==1.*->httpx<1,>=0.23.0->openai>=1.54.0->litellm>=1.51.0->just-agents) (0.14.0)\n",
            "Requirement already satisfied: filelock in /usr/local/lib/python3.10/dist-packages (from huggingface-hub<1.0,>=0.16.4->tokenizers->litellm>=1.51.0->just-agents) (3.16.1)\n",
            "Requirement already satisfied: fsspec>=2023.5.0 in /usr/local/lib/python3.10/dist-packages (from huggingface-hub<1.0,>=0.16.4->tokenizers->litellm>=1.51.0->just-agents) (2024.10.0)\n",
            "Requirement already satisfied: pyyaml>=5.1 in /usr/local/lib/python3.10/dist-packages (from huggingface-hub<1.0,>=0.16.4->tokenizers->litellm>=1.51.0->just-agents) (6.0.2)\n",
            "Requirement already satisfied: mdurl~=0.1 in /usr/local/lib/python3.10/dist-packages (from markdown-it-py>=2.2.0->rich>=10.11.0->typer>=0.12.5->just-agents) (0.1.2)\n",
            "Downloading just_agents-0.2.5-py2.py3-none-any.whl (50 kB)\n",
            "\u001b[2K   \u001b[90m━━━━━━━━━━━━━━━━━━━━━━━━━━━━━━━━━━━━━━━━\u001b[0m \u001b[32m50.0/50.0 kB\u001b[0m \u001b[31m2.1 MB/s\u001b[0m eta \u001b[36m0:00:00\u001b[0m\n",
            "\u001b[?25hDownloading litellm-1.52.10-py3-none-any.whl (6.4 MB)\n",
            "\u001b[2K   \u001b[90m━━━━━━━━━━━━━━━━━━━━━━━━━━━━━━━━━━━━━━━━\u001b[0m \u001b[32m6.4/6.4 MB\u001b[0m \u001b[31m41.5 MB/s\u001b[0m eta \u001b[36m0:00:00\u001b[0m\n",
            "\u001b[?25hDownloading numpydoc-1.8.0-py3-none-any.whl (64 kB)\n",
            "\u001b[2K   \u001b[90m━━━━━━━━━━━━━━━━━━━━━━━━━━━━━━━━━━━━━━━━\u001b[0m \u001b[32m64.0/64.0 kB\u001b[0m \u001b[31m5.2 MB/s\u001b[0m eta \u001b[36m0:00:00\u001b[0m\n",
            "\u001b[?25hDownloading python_dotenv-1.0.1-py3-none-any.whl (19 kB)\n",
            "Downloading tiktoken-0.8.0-cp310-cp310-manylinux_2_17_x86_64.manylinux2014_x86_64.whl (1.2 MB)\n",
            "\u001b[2K   \u001b[90m━━━━━━━━━━━━━━━━━━━━━━━━━━━━━━━━━━━━━━━━\u001b[0m \u001b[32m1.2/1.2 MB\u001b[0m \u001b[31m34.5 MB/s\u001b[0m eta \u001b[36m0:00:00\u001b[0m\n",
            "\u001b[?25hInstalling collected packages: python-dotenv, tiktoken, numpydoc, litellm, just-agents\n",
            "Successfully installed just-agents-0.2.5 litellm-1.52.10 numpydoc-1.8.0 python-dotenv-1.0.1 tiktoken-0.8.0\n"
          ]
        }
      ],
      "source": [
        "!pip install just-agents-core==0.4.3\n",
        "!pip install just-agents-examples==0.4.3"
      ]
    },
    {
      "cell_type": "code",
      "execution_count": null,
      "metadata": {
        "colab": {
          "base_uri": "https://localhost:8080/"
        },
        "collapsed": true,
        "id": "AAeKVTq0Zgo-",
        "outputId": "ead7d318-7369-454b-a203-480d1853224b"
      },
      "outputs": [
        {
          "name": "stdout",
          "output_type": "stream",
          "text": [
            "Please enter your API keys:\n"
          ]
        }
      ],
      "source": [
        "import os\n",
        "import getpass\n",
        "\n",
        "def get_api_keys():\n",
        "  \"\"\"Gets API keys from the user.\"\"\"\n",
        "\n",
        "  print(\"Please enter your API keys:\")\n",
        "  groq_api_key = getpass.getpass(\"GROQ_API_KEY: \")\n",
        "  openai_api_key = getpass.getpass(\"OPENAI_API_KEY: \")\n",
        "\n",
        "  # Set environment variables\n",
        "  os.environ[\"GROQ_API_KEY\"] = groq_api_key\n",
        "  os.environ[\"OPENAI_API_KEY\"] = openai_api_key\n",
        "\n",
        "  print(\"API keys set successfully.\")\n",
        "\n",
        "# Call the function to get API keys from the user\n",
        "get_api_keys()"
      ]
    },
    {
      "cell_type": "markdown",
      "metadata": {
        "id": "z_UqGQ-jaGgq"
      },
      "source": [
        "### Run functions to run code\n",
        "\n",
        "Writing custom functions to run code and install dependencies"
      ]
    },
    {
      "cell_type": "code",
      "execution_count": null,
      "metadata": {
        "id": "Hime-BufbBUu"
      },
      "outputs": [],
      "source": [
        "# Define the function\n",
        "import io\n",
        "import contextlib\n",
        "\n",
        "def run_python_code(code: str):\n",
        "    \"\"\"\n",
        "    code: str # python code to run\n",
        "    \"\"\"\n",
        "    output = io.StringIO()\n",
        "    error = io.StringIO()\n",
        "\n",
        "    try:\n",
        "        with contextlib.redirect_stdout(output), contextlib.redirect_stderr(error):\n",
        "            exec(code)\n",
        "        result = output.getvalue()\n",
        "        if result:\n",
        "            return result.strip()\n",
        "        else:\n",
        "            return \"No output.\"\n",
        "    except Exception as e:\n",
        "        return f\"Error: {str(e)}\""
      ]
    },
    {
      "cell_type": "markdown",
      "metadata": {
        "id": "9tIM7nM0bDST"
      },
      "source": [
        "Let's test that code generation works"
      ]
    },
    {
      "cell_type": "code",
      "execution_count": null,
      "metadata": {
        "colab": {
          "base_uri": "https://localhost:8080/",
          "height": 36
        },
        "collapsed": true,
        "id": "85UAQb8qbHJI",
        "outputId": "e9affe7c-add8-4517-fba2-4fdeefd678fb"
      },
      "outputs": [
        {
          "data": {
            "application/vnd.google.colaboratory.intrinsic+json": {
              "type": "string"
            },
            "text/plain": [
              "'Hello World'"
            ]
          },
          "execution_count": 4,
          "metadata": {},
          "output_type": "execute_result"
        }
      ],
      "source": [
        "run_python_code(\"print('Hello World')\")"
      ]
    },
    {
      "cell_type": "code",
      "execution_count": null,
      "metadata": {
        "colab": {
          "base_uri": "https://localhost:8080/",
          "height": 244
        },
        "collapsed": true,
        "id": "O8kajbQ4aljb",
        "outputId": "09caca57-2e3b-4544-a3e7-c797d04f6709"
      },
      "outputs": [
        {
          "name": "stdout",
          "output_type": "stream",
          "text": [
            "{'content': 'Compute 2 * 10 + (342 +3) / 23.0', 'role': 'user'}\n",
            "{'role': 'assistant',\n",
            " 'tool_calls': [{'function': {'arguments': '{\"code\": \"print(2 * 10 + (342 + 3) '\n",
            "                                           '/ 23.0)\"}',\n",
            "                              'name': 'run_python_code'},\n",
            "                 'id': 'call_5ma0',\n",
            "                 'type': 'function'}]}\n",
            "{'content': '35.0',\n",
            " 'name': 'run_python_code',\n",
            " 'role': 'tool',\n",
            " 'tool_call_id': 'call_5ma0'}\n",
            "{'content': 'The result of the computation is 35.0.', 'role': 'assistant'}\n"
          ]
        },
        {
          "data": {
            "application/vnd.google.colaboratory.intrinsic+json": {
              "type": "string"
            },
            "text/plain": [
              "'MODEL RESPONSE = \"The result of the computation is 35.0.\" '"
            ]
          },
          "execution_count": 5,
          "metadata": {},
          "output_type": "execute_result"
        }
      ],
      "source": [
        "from just_agents import llm_options\n",
        "from just_agents.base_agent import BaseAgent\n",
        "import pprint\n",
        "\n",
        "prompt = \"Compute 2 * 10 + (342 +3) / 23.0\"\n",
        "\n",
        "agent: BaseAgent = BaseAgent(\n",
        "    llm_options=llm_options.LLAMA3_2,\n",
        "    tools=[run_python_code]\n",
        ")\n",
        "agent.memory.add_on_message(lambda m: pprint.pprint(m))\n",
        "\n",
        "response = agent.query(prompt)\n",
        "f\"\"\"MODEL RESPONSE = \"{response}\" \"\"\""
      ]
    },
    {
      "cell_type": "markdown",
      "metadata": {
        "id": "hhLqOlBAg4ew"
      },
      "source": [
        "# Dependency hell management"
      ]
    },
    {
      "cell_type": "markdown",
      "metadata": {
        "id": "NOZFuSv4ciSH"
      },
      "source": [
        "But what if it does not have dependencies installed?"
      ]
    },
    {
      "cell_type": "code",
      "execution_count": null,
      "metadata": {
        "colab": {
          "base_uri": "https://localhost:8080/",
          "height": 296
        },
        "collapsed": true,
        "id": "SatGdw47gy-_",
        "outputId": "3139f69b-ddcd-44bf-e278-087b713eb6d4"
      },
      "outputs": [
        {
          "name": "stdout",
          "output_type": "stream",
          "text": [
            "{'content': 'translate ATGCATAGGTAG with biopython', 'role': 'user'}\n",
            "{'role': 'assistant',\n",
            " 'tool_calls': [{'function': {'arguments': '{\"code\": \"from Bio.Seq import '\n",
            "                                           'Seq\\\\nprint(Seq(\\\\\"ATGCATAGGTAG\\\\\").translate())\"}',\n",
            "                              'name': 'run_python_code'},\n",
            "                 'id': 'call_tp4e',\n",
            "                 'type': 'function'}]}\n",
            "{'content': \"Error: No module named 'Bio'\",\n",
            " 'name': 'run_python_code',\n",
            " 'role': 'tool',\n",
            " 'tool_call_id': 'call_tp4e'}\n",
            "{'content': 'It seems like the biopython library is not installed in the '\n",
            "            'environment. Let me try again with the library installed.',\n",
            " 'role': 'assistant'}\n"
          ]
        },
        {
          "data": {
            "application/vnd.google.colaboratory.intrinsic+json": {
              "type": "string"
            },
            "text/plain": [
              "'It seems like the biopython library is not installed in the environment. Let me try again with the library installed.'"
            ]
          },
          "execution_count": 6,
          "metadata": {},
          "output_type": "execute_result"
        }
      ],
      "source": [
        "agent.query(\"translate ATGCATAGGTAG with biopython\")"
      ]
    },
    {
      "cell_type": "code",
      "execution_count": null,
      "metadata": {
        "colab": {
          "base_uri": "https://localhost:8080/"
        },
        "collapsed": true,
        "id": "X95ZKLSOcwlx",
        "outputId": "dec22b85-8d99-42bd-e035-f7d27c2b97c5"
      },
      "outputs": [
        {
          "name": "stdout",
          "output_type": "stream",
          "text": [
            "total 16\n",
            "drwxr-xr-x 1 root root 4096 Nov 12 14:25 .\n",
            "drwxr-xr-x 1 root root 4096 Nov 14 16:26 ..\n",
            "drwxr-xr-x 4 root root 4096 Nov 12 14:24 .config\n",
            "drwxr-xr-x 1 root root 4096 Nov 12 14:25 sample_data\n"
          ]
        }
      ],
      "source": [
        "import subprocess\n",
        "\n",
        "def execute_bash(command: str):\n",
        "    \"\"\"\n",
        "    Executes a Bash command and returns the output or error message.\n",
        "\n",
        "    Parameters:\n",
        "    command (st): Bash command as a string.\n",
        "\n",
        "    Returns:\n",
        "    str: The output or error message from executing the command.\n",
        "    \"\"\"\n",
        "    try:\n",
        "        result = subprocess.run(command, shell=True, text=True, capture_output=True)\n",
        "        if result.returncode == 0:\n",
        "            return result.stdout.strip() if result.stdout else \"No output.\"\n",
        "        else:\n",
        "            return f\"Error: {result.stderr.strip()}\"\n",
        "    except Exception as e:\n",
        "        return f\"Exception: {str(e)}\"\n",
        "\n",
        "# Example usage:\n",
        "bash_command = \"ls -la\"\n",
        "output = execute_bash(bash_command)\n",
        "print(output)\n"
      ]
    },
    {
      "cell_type": "code",
      "execution_count": null,
      "metadata": {
        "colab": {
          "base_uri": "https://localhost:8080/",
          "height": 365
        },
        "collapsed": true,
        "id": "3aKHivPXf3Ad",
        "outputId": "b5a8b47c-f9fc-4c25-c32c-bf8b9cb91b48"
      },
      "outputs": [
        {
          "name": "stdout",
          "output_type": "stream",
          "text": [
            "{'content': 'Install biopython with pip', 'role': 'user'}\n",
            "{'role': 'assistant',\n",
            " 'tool_calls': [{'function': {'arguments': '{\"command\":\"pip install '\n",
            "                                           'biopython\"}',\n",
            "                              'name': 'execute_bash'},\n",
            "                 'id': 'call_NJhWi2YdmEvJjCP21Oy6jbeE',\n",
            "                 'type': 'function'}]}\n",
            "{'content': 'Requirement already satisfied: biopython in '\n",
            "            '/usr/local/lib/python3.10/dist-packages (1.84)\\n'\n",
            "            'Requirement already satisfied: numpy in '\n",
            "            '/usr/local/lib/python3.10/dist-packages (from biopython) (1.26.4)',\n",
            " 'name': 'execute_bash',\n",
            " 'role': 'tool',\n",
            " 'tool_call_id': 'call_NJhWi2YdmEvJjCP21Oy6jbeE'}\n",
            "{'content': 'Biopython is already installed on your system. The installed '\n",
            "            'version is 1.84, and it also requires NumPy, which is already '\n",
            "            'satisfied.',\n",
            " 'role': 'assistant'}\n"
          ]
        },
        {
          "data": {
            "application/vnd.google.colaboratory.intrinsic+json": {
              "type": "string"
            },
            "text/plain": [
              "'Biopython is already installed on your system. The installed version is 1.84, and it also requires NumPy, which is already satisfied.'"
            ]
          },
          "execution_count": 10,
          "metadata": {},
          "output_type": "execute_result"
        }
      ],
      "source": [
        "from just_agents import llm_options\n",
        "from just_agents.base_agent import BaseAgent\n",
        "import pprint\n",
        "\n",
        "\n",
        "agent: BaseAgent = BaseAgent(\n",
        "    llm_options=llm_options.OPENAI_GPT4oMINI,\n",
        "    tools=[run_python_code, execute_bash]\n",
        ")\n",
        "agent.memory.add_on_message(lambda m: pprint.pprint(m))\n",
        "\n",
        "result = agent.query(\"Install biopython with pip\")\n",
        "result"
      ]
    },
    {
      "cell_type": "code",
      "execution_count": null,
      "metadata": {
        "colab": {
          "base_uri": "https://localhost:8080/",
          "height": 1000
        },
        "id": "IGpWtGoXgU2W",
        "outputId": "9571204d-454d-4e09-930d-a57a942f23f5"
      },
      "outputs": [
        {
          "name": "stdout",
          "output_type": "stream",
          "text": [
            "{'content': 'translate ATGCATAGGTAG with biopython', 'role': 'user'}\n",
            "{'role': 'assistant',\n",
            " 'tool_calls': [{'function': {'arguments': '{\"code\":\"from Bio.Seq import '\n",
            "                                           'Seq\\\\n\\\\n# Define the DNA '\n",
            "                                           'sequence\\\\nsequence = '\n",
            "                                           \"Seq('ATGCATAGGTAG')\\\\n\\\\n# \"\n",
            "                                           'Translate the DNA sequence to '\n",
            "                                           'protein\\\\nprotein = '\n",
            "                                           'sequence.translate()\\\\nprotein\"}',\n",
            "                              'name': 'run_python_code'},\n",
            "                 'id': 'call_YyfBGDeU6gDKq9CmKYR24xrx',\n",
            "                 'type': 'function'}]}\n",
            "{'content': 'No output.',\n",
            " 'name': 'run_python_code',\n",
            " 'role': 'tool',\n",
            " 'tool_call_id': 'call_YyfBGDeU6gDKq9CmKYR24xrx'}\n",
            "{'content': 'It seems that the translation did not produce any output. Let me '\n",
            "            'check the code and ensure that the translation is performed '\n",
            "            \"correctly. I'll run the translation again and display the result.\",\n",
            " 'role': 'assistant',\n",
            " 'tool_calls': [{'function': {'arguments': '{\"code\":\"from Bio.Seq import '\n",
            "                                           'Seq\\\\n\\\\n# Define the DNA '\n",
            "                                           'sequence\\\\nsequence = '\n",
            "                                           \"Seq('ATGCATAGGTAG')\\\\n\\\\n# \"\n",
            "                                           'Translate the DNA sequence to '\n",
            "                                           'protein\\\\nprotein = '\n",
            "                                           'sequence.translate()\\\\n\\\\n# Output '\n",
            "                                           'the protein '\n",
            "                                           'sequence\\\\nstr(protein)\"}',\n",
            "                              'name': 'run_python_code'},\n",
            "                 'id': 'call_BadgHFjN6TioX64FB3OtrQ2r',\n",
            "                 'type': 'function'}]}\n",
            "{'content': 'No output.',\n",
            " 'name': 'run_python_code',\n",
            " 'role': 'tool',\n",
            " 'tool_call_id': 'call_BadgHFjN6TioX64FB3OtrQ2r'}\n",
            "{'content': 'It appears that the translation of the DNA sequence did not yield '\n",
            "            'any output again. This could be due to the presence of a stop '\n",
            "            'codon in the sequence. \\n'\n",
            "            '\\n'\n",
            "            'The sequence \"ATGCATAGGTAG\" translates to a protein sequence, but '\n",
            "            'if it ends with a stop codon, it may not produce a visible '\n",
            "            'output. Let me check the translation result explicitly.',\n",
            " 'role': 'assistant',\n",
            " 'tool_calls': [{'function': {'arguments': '{\"code\":\"from Bio.Seq import '\n",
            "                                           'Seq\\\\n\\\\n# Define the DNA '\n",
            "                                           'sequence\\\\nsequence = '\n",
            "                                           \"Seq('ATGCATAGGTAG')\\\\n\\\\n# \"\n",
            "                                           'Translate the DNA sequence to '\n",
            "                                           'protein\\\\nprotein = '\n",
            "                                           'sequence.translate()\\\\n\\\\n# Output '\n",
            "                                           'the protein sequence and its '\n",
            "                                           'length\\\\nstr(protein), '\n",
            "                                           'len(protein)\"}',\n",
            "                              'name': 'run_python_code'},\n",
            "                 'id': 'call_NSom4cGVwUK0tTSPsd0uEh8o',\n",
            "                 'type': 'function'}]}\n",
            "{'content': 'No output.',\n",
            " 'name': 'run_python_code',\n",
            " 'role': 'tool',\n",
            " 'tool_call_id': 'call_NSom4cGVwUK0tTSPsd0uEh8o'}\n",
            "{'content': 'It seems that the translation process is still not providing any '\n",
            "            'output. This could be due to the sequence containing a stop codon '\n",
            "            'or being too short for a meaningful translation.\\n'\n",
            "            '\\n'\n",
            "            'Let me check the sequence and its translation in a different way '\n",
            "            \"to ensure we get the correct output. I'll also include the codon \"\n",
            "            'information.',\n",
            " 'role': 'assistant',\n",
            " 'tool_calls': [{'function': {'arguments': '{\"code\":\"from Bio.Seq import '\n",
            "                                           'Seq\\\\n\\\\n# Define the DNA '\n",
            "                                           'sequence\\\\nsequence = '\n",
            "                                           \"Seq('ATGCATAGGTAG')\\\\n\\\\n# \"\n",
            "                                           'Translate the DNA sequence to '\n",
            "                                           'protein\\\\nprotein = '\n",
            "                                           'sequence.translate()\\\\n\\\\n# Get '\n",
            "                                           'the codons\\\\ncodons = '\n",
            "                                           '[sequence[i:i+3] for i in range(0, '\n",
            "                                           'len(sequence), 3)]\\\\n\\\\n# Output '\n",
            "                                           'the protein sequence and the '\n",
            "                                           'codons\\\\nstr(protein), codons\"}',\n",
            "                              'name': 'run_python_code'},\n",
            "                 'id': 'call_rzywRgDQMbhAwXILtKNvBJsy',\n",
            "                 'type': 'function'}]}\n",
            "{'content': \"Error: name 'sequence' is not defined\",\n",
            " 'name': 'run_python_code',\n",
            " 'role': 'tool',\n",
            " 'tool_call_id': 'call_rzywRgDQMbhAwXILtKNvBJsy'}\n",
            "{'content': 'It seems there was an error in the code execution. Let me correct '\n",
            "            'that and run the translation along with the codon extraction '\n",
            "            'again.',\n",
            " 'role': 'assistant',\n",
            " 'tool_calls': [{'function': {'arguments': '{\"code\":\"from Bio.Seq import '\n",
            "                                           'Seq\\\\n\\\\n# Define the DNA '\n",
            "                                           'sequence\\\\nsequence = '\n",
            "                                           \"Seq('ATGCATAGGTAG')\\\\n\\\\n# Get the \"\n",
            "                                           'codons\\\\ncodons = [sequence[i:i+3] '\n",
            "                                           'for i in range(0, len(sequence), '\n",
            "                                           '3)]\\\\n\\\\n# Translate the DNA '\n",
            "                                           'sequence to protein\\\\nprotein = '\n",
            "                                           'sequence.translate()\\\\n\\\\n# Output '\n",
            "                                           'the protein sequence and the '\n",
            "                                           'codons\\\\nprotein, codons\"}',\n",
            "                              'name': 'run_python_code'},\n",
            "                 'id': 'call_9mS1Zsv3OiKmVhbdAsfCGCqS',\n",
            "                 'type': 'function'}]}\n",
            "{'content': \"Error: name 'sequence' is not defined\",\n",
            " 'name': 'run_python_code',\n",
            " 'role': 'tool',\n",
            " 'tool_call_id': 'call_9mS1Zsv3OiKmVhbdAsfCGCqS'}\n",
            "{'content': 'It seems that the code execution environment is not retaining the '\n",
            "            'previous definitions. Let me redefine everything and run the '\n",
            "            'translation along with the codon extraction again.',\n",
            " 'role': 'assistant',\n",
            " 'tool_calls': [{'function': {'arguments': '{\"code\":\"from Bio.Seq import '\n",
            "                                           'Seq\\\\n\\\\n# Define the DNA '\n",
            "                                           'sequence\\\\nsequence = '\n",
            "                                           \"Seq('ATGCATAGGTAG')\\\\n\\\\n# \"\n",
            "                                           'Translate the DNA sequence to '\n",
            "                                           'protein\\\\nprotein = '\n",
            "                                           'sequence.translate()\\\\n\\\\n# Get '\n",
            "                                           'the codons\\\\ncodons = '\n",
            "                                           '[sequence[i:i+3] for i in range(0, '\n",
            "                                           'len(sequence), 3)]\\\\n\\\\n# Output '\n",
            "                                           'the protein sequence and the '\n",
            "                                           'codons\\\\n(protein, str(protein), '\n",
            "                                           'codons)\"}',\n",
            "                              'name': 'run_python_code'},\n",
            "                 'id': 'call_kSC8gRGTaVYzMqp2FK8RdW6y',\n",
            "                 'type': 'function'}]}\n",
            "{'content': \"Error: name 'sequence' is not defined\",\n",
            " 'name': 'run_python_code',\n",
            " 'role': 'tool',\n",
            " 'tool_call_id': 'call_kSC8gRGTaVYzMqp2FK8RdW6y'}\n",
            "{'content': 'It seems that there is a persistent issue with the code execution '\n",
            "            'environment. Unfortunately, I am unable to retrieve the '\n",
            "            'translation results at this moment.\\n'\n",
            "            '\\n'\n",
            "            'However, I can guide you on how to perform the translation using '\n",
            "            'Biopython in your own environment. Here’s a simple code snippet '\n",
            "            'you can run:\\n'\n",
            "            '\\n'\n",
            "            '```python\\n'\n",
            "            'from Bio.Seq import Seq\\n'\n",
            "            '\\n'\n",
            "            '# Define the DNA sequence\\n'\n",
            "            \"sequence = Seq('ATGCATAGGTAG')\\n\"\n",
            "            '\\n'\n",
            "            '# Translate the DNA sequence to protein\\n'\n",
            "            'protein = sequence.translate()\\n'\n",
            "            '\\n'\n",
            "            '# Get the codons\\n'\n",
            "            'codons = [sequence[i:i+3] for i in range(0, len(sequence), 3)]\\n'\n",
            "            '\\n'\n",
            "            '# Output the protein sequence and the codons\\n'\n",
            "            'print(\"Protein:\", protein)\\n'\n",
            "            'print(\"Codons:\", codons)\\n'\n",
            "            '```\\n'\n",
            "            '\\n'\n",
            "            'This code will give you the translated protein sequence and the '\n",
            "            'individual codons from the DNA sequence. If you run this in your '\n",
            "            'local Python environment with Biopython installed, you should see '\n",
            "            'the results.',\n",
            " 'role': 'assistant'}\n"
          ]
        },
        {
          "data": {
            "application/vnd.google.colaboratory.intrinsic+json": {
              "type": "string"
            },
            "text/plain": [
              "'It seems that there is a persistent issue with the code execution environment. Unfortunately, I am unable to retrieve the translation results at this moment.\\n\\nHowever, I can guide you on how to perform the translation using Biopython in your own environment. Here’s a simple code snippet you can run:\\n\\n```python\\nfrom Bio.Seq import Seq\\n\\n# Define the DNA sequence\\nsequence = Seq(\\'ATGCATAGGTAG\\')\\n\\n# Translate the DNA sequence to protein\\nprotein = sequence.translate()\\n\\n# Get the codons\\ncodons = [sequence[i:i+3] for i in range(0, len(sequence), 3)]\\n\\n# Output the protein sequence and the codons\\nprint(\"Protein:\", protein)\\nprint(\"Codons:\", codons)\\n```\\n\\nThis code will give you the translated protein sequence and the individual codons from the DNA sequence. If you run this in your local Python environment with Biopython installed, you should see the results.'"
            ]
          },
          "execution_count": 11,
          "metadata": {},
          "output_type": "execute_result"
        }
      ],
      "source": [
        "agent.query(\"translate ATGCATAGGTAG with biopython\")"
      ]
    },
    {
      "cell_type": "code",
      "execution_count": null,
      "metadata": {
        "id": "rx9VtjBOgevZ"
      },
      "outputs": [],
      "source": []
    }
  ],
  "metadata": {
    "colab": {
      "include_colab_link": true,
      "provenance": []
    },
    "kernelspec": {
      "display_name": "Python 3",
      "name": "python3"
    },
    "language_info": {
      "name": "python"
    }
  },
  "nbformat": 4,
  "nbformat_minor": 0
}
